{
 "cells": [
  {
   "cell_type": "code",
   "execution_count": null,
   "id": "c0ee3aed-4174-425a-81df-829f41a81c96",
   "metadata": {},
   "outputs": [],
   "source": []
  },
  {
   "cell_type": "code",
   "execution_count": 18,
   "id": "494f68d0-f61b-41ff-9ff4-72c0a929386c",
   "metadata": {},
   "outputs": [
    {
     "name": "stdout",
     "output_type": "stream",
     "text": [
      "\n",
      "Naive Bayes Accuracy: 95.8041958041958\n",
      "\n",
      "Naive Bayes Classification Report:\n",
      "              precision    recall  f1-score   support\n",
      "\n",
      "           0       0.97      0.97      0.97        89\n",
      "           1       0.94      0.94      0.94        54\n",
      "\n",
      "    accuracy                           0.96       143\n",
      "   macro avg       0.96      0.96      0.96       143\n",
      "weighted avg       0.96      0.96      0.96       143\n",
      "\n",
      "\n",
      "Naive Bayes Cohen's Kappa Score: 0.9107365792759051\n",
      "\n",
      "Naive Bayes Confusion Matrix:\n"
     ]
    },
    {
     "data": {
      "image/png": "[encoded data removed]",
      "text/plain": [
       "<Figure size 640x480 with 2 Axes>"
      ]
     },
     "metadata": {},
     "output_type": "display_data"
    },
    {
     "name": "stdout",
     "output_type": "stream",
     "text": [
      "\n",
      "Naive Bayes Precision: 0.9662921348314607\n",
      "Naive Bayes Recall: 0.9662921348314607\n"
     ]
    }
   ],
   "source": [
    "# Importing necessary library for Naive Bayes\n",
    "import pandas as pd\n",
    "from sklearn.model_selection import train_test_split\n",
    "from sklearn.naive_bayes import GaussianNB\n",
    "from sklearn.preprocessing import LabelEncoder\n",
    "from sklearn.metrics import accuracy_score, classification_report, confusion_matrix, cohen_kappa_score\n",
    "import matplotlib.pyplot as plt\n",
    "import seaborn as sns\n",
    "\n",
    "# Load the dataset\n",
    "df = pd.read_csv('data.csv')\n",
    "\n",
    "# Preprocessing (handle missing values, encode categorical variables )\n",
    "\n",
    "# Drop unnecessary columns\n",
    "df_cleaned = df.drop(columns=['id', 'Unnamed: 32'])\n",
    "\n",
    "# Encode the 'diagnosis' column\n",
    "label_encoder = LabelEncoder()\n",
    "df_cleaned['diagnosis'] = label_encoder.fit_transform(df_cleaned['diagnosis'])\n",
    "\n",
    "# Splitting the dataset into features (X) and target variable (y)\n",
    "X = df_cleaned.drop('diagnosis', axis=1)\n",
    "y = df_cleaned['diagnosis']\n",
    "\n",
    "# Splitting the data into training and testing sets\n",
    "X_train, X_test, y_train, y_test = train_test_split(X, y, test_size=0.25, random_state=42)\n",
    "\n",
    "# Creating and training the Naive Bayes model\n",
    "nb_model = GaussianNB()\n",
    "nb_model.fit(X_train, y_train_encoded)\n",
    "\n",
    "# Predicting the target variable on the testing set\n",
    "y_pred_nb = nb_model.predict(X_test)\n",
    "\n",
    "# Model evaluation\n",
    "nb_accuracy = 100 * accuracy_score(y_test, y_pred_nb)\n",
    "print(\"\\nNaive Bayes Accuracy:\", nb_accuracy)\n",
    "\n",
    "# Classification report for Naive Bayes\n",
    "print(\"\\nNaive Bayes Classification Report:\")\n",
    "print(classification_report(y_test_encoded, y_pred_nb))\n",
    "\n",
    "# Calculate Cohen's Kappa value for Naive Bayes\n",
    "kappa_score_nb = cohen_kappa_score(y_test, y_pred_nb)\n",
    "print(\"\\nNaive Bayes Cohen's Kappa Score:\", kappa_score_nb)\n",
    "\n",
    "# Generating the confusion matrix for Naive Bayes\n",
    "cm_nb = confusion_matrix(y_test, y_pred_nb)\n",
    "print(\"\\nNaive Bayes Confusion Matrix:\")\n",
    "sns.heatmap(cm_nb, annot=True, cmap='viridis')\n",
    "plt.show()\n",
    "\n",
    "# Calculate precision and recall for Naive Bayes\n",
    "TP_nb = cm_nb[0][0]\n",
    "FP_nb = cm_nb[0][1]\n",
    "FN_nb = cm_nb[1][0]\n",
    "TN_nb = cm_nb[1][1]\n",
    "\n",
    "precision_nb = TP_nb / (TP_nb + FP_nb) if (TP_nb + FP_nb) > 0 else 0\n",
    "recall_nb = TP_nb / (TP_nb + FN_nb) if (TP_nb + FN_nb) > 0 else 0\n",
    "\n",
    "print(\"\\nNaive Bayes Precision:\", precision_nb)\n",
    "print(\"Naive Bayes Recall:\", recall_nb)"
   ]
  },
  {
   "cell_type": "code",
   "execution_count": 20,
   "id": "a4735fda-8a8d-4dab-ba0d-6a575f080e22",
   "metadata": {},
   "outputs": [
    {
     "name": "stdout",
     "output_type": "stream",
     "text": [
      "id                           int64\n",
      "diagnosis                   object\n",
      "radius_mean                float64\n",
      "texture_mean               float64\n",
      "perimeter_mean             float64\n",
      "area_mean                  float64\n",
      "smoothness_mean            float64\n",
      "compactness_mean           float64\n",
      "concavity_mean             float64\n",
      "concave points_mean        float64\n",
      "symmetry_mean              float64\n",
      "fractal_dimension_mean     float64\n",
      "radius_se                  float64\n",
      "texture_se                 float64\n",
      "perimeter_se               float64\n",
      "area_se                    float64\n",
      "smoothness_se              float64\n",
      "compactness_se             float64\n",
      "concavity_se               float64\n",
      "concave points_se          float64\n",
      "symmetry_se                float64\n",
      "fractal_dimension_se       float64\n",
      "radius_worst               float64\n",
      "texture_worst              float64\n",
      "perimeter_worst            float64\n",
      "area_worst                 float64\n",
      "smoothness_worst           float64\n",
      "compactness_worst          float64\n",
      "concavity_worst            float64\n",
      "concave points_worst       float64\n",
      "symmetry_worst             float64\n",
      "fractal_dimension_worst    float64\n",
      "Unnamed: 32                float64\n",
      "dtype: object\n"
     ]
    }
   ],
   "source": [
    "print (df.dtypes)"
   ]
  },
  {
   "cell_type": "code",
   "execution_count": null,
   "id": "311b0cfc-f875-43b7-9315-5977f5473650",
   "metadata": {},
   "outputs": [],
   "source": []
  }
 ],
 "metadata": {
  "kernelspec": {
   "display_name": "Python 3 (ipykernel)",
   "language": "python",
   "name": "python3"
  },
  "language_info": {
   "codemirror_mode": {
    "name": "ipython",
    "version": 3
   },
   "file_extension": ".py",
   "mimetype": "text/x-python",
   "name": "python",
   "nbconvert_exporter": "python",
   "pygments_lexer": "ipython3",
   "version": "3.12.4"
  }
 },
 "nbformat": 4,
 "nbformat_minor": 5
}
